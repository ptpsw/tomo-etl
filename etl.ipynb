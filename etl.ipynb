{
 "cells": [
  {
   "cell_type": "markdown",
   "id": "541a0881",
   "metadata": {},
   "source": [
    "# ETL Process Tomography Data"
   ]
  },
  {
   "cell_type": "code",
   "execution_count": 4,
   "id": "971c1a45",
   "metadata": {},
   "outputs": [],
   "source": [
    "import os\n",
    "import re\n",
    "import glob\n",
    "import pandas as pd"
   ]
  },
  {
   "cell_type": "markdown",
   "id": "86d2279f",
   "metadata": {},
   "source": [
    "First create regex for finding all csv files with specified format.\n",
    "\n",
    "sincos_file_format = '1210619_04_30_00.csv'\n",
    "snr_file_format = '1210618_20_40_00_SNR.csv'\n",
    "stack_file_format = '1210619_04_10_00to1210619_00_00_00.csv'\n",
    "std_file_format = '1210619_04_20_00to1210619_00_00_00_std.csv'\n",
    "\n"
   ]
  },
  {
   "cell_type": "code",
   "execution_count": 7,
   "id": "9223e8d7",
   "metadata": {},
   "outputs": [],
   "source": [
    "regex_date      = '([0-9]{6}_[0-9]{2}_[0-9]{2}_[0-9]{2})'\n",
    "regex_sincos    = re.compile('(?P<station>[0-9])' + regex_date + '.csv')\n",
    "regex_snr       = re.compile('(?P<station>[0-9])' + regex_date + '_SNR.csv')\n",
    "regex_stack     = re.compile('(?P<station>[0-9])' + regex_date + 'to' +\n",
    "                             '(?P<station2>[0-9])' + regex_date + '.csv')\n",
    "regex_std       = re.compile('(?P<station>[0-9])' + regex_date + 'to' +\n",
    "                             '(?P<station2>[0-9])' + regex_date + '_std.csv')"
   ]
  },
  {
   "cell_type": "code",
   "execution_count": 8,
   "id": "f72c85ce",
   "metadata": {},
   "outputs": [],
   "source": [
    "def get_files(filepath, regex):\n",
    "    all_files = []\n",
    "    count_match = 0\n",
    "    count_not_match = 0\n",
    "\n",
    "    for root, dirs, files in os.walk(filepath):\n",
    "        glob_files = glob.glob(os.path.join(root, '*.csv'))\n",
    "        for f in glob_files:\n",
    "            head, tail = os.path.split(f)\n",
    "            if(regex.match(tail)):\n",
    "                all_files.append(os.path.abspath(f))\n",
    "                count_match +=1\n",
    "            else:\n",
    "                count_not_match+=1\n",
    "    \n",
    "    print(count_match)\n",
    "    print(count_not_match)\n",
    "    return all_files"
   ]
  },
  {
   "cell_type": "markdown",
   "id": "5947350a-5b7c-44c4-86e6-27caa6d565c9",
   "metadata": {},
   "source": [
    "# Process Max SNR/Standard Deviation Files"
   ]
  },
  {
   "cell_type": "code",
   "execution_count": 12,
   "id": "725b1670",
   "metadata": {},
   "outputs": [
    {
     "name": "stdout",
     "output_type": "stream",
     "text": [
      "45\n",
      "140\n"
     ]
    },
    {
     "data": {
      "text/plain": [
       "['C:\\\\workspace\\\\tomo\\\\tomo-etl\\\\data\\\\historical_data\\\\1210618_20_40_00to1210618_00_00_00_std.csv',\n",
       " 'C:\\\\workspace\\\\tomo\\\\tomo-etl\\\\data\\\\historical_data\\\\1210618_20_50_00to1210618_00_00_00_std.csv',\n",
       " 'C:\\\\workspace\\\\tomo\\\\tomo-etl\\\\data\\\\historical_data\\\\1210618_21_00_00to1210618_00_00_00_std.csv',\n",
       " 'C:\\\\workspace\\\\tomo\\\\tomo-etl\\\\data\\\\historical_data\\\\1210618_21_10_00to1210618_00_00_00_std.csv',\n",
       " 'C:\\\\workspace\\\\tomo\\\\tomo-etl\\\\data\\\\historical_data\\\\1210618_21_20_00to1210618_00_00_00_std.csv',\n",
       " 'C:\\\\workspace\\\\tomo\\\\tomo-etl\\\\data\\\\historical_data\\\\1210618_21_30_00to1210618_00_00_00_std.csv',\n",
       " 'C:\\\\workspace\\\\tomo\\\\tomo-etl\\\\data\\\\historical_data\\\\1210618_21_40_00to1210618_00_00_00_std.csv',\n",
       " 'C:\\\\workspace\\\\tomo\\\\tomo-etl\\\\data\\\\historical_data\\\\1210618_21_50_00to1210618_00_00_00_std.csv',\n",
       " 'C:\\\\workspace\\\\tomo\\\\tomo-etl\\\\data\\\\historical_data\\\\1210618_22_00_00to1210618_00_00_00_std.csv',\n",
       " 'C:\\\\workspace\\\\tomo\\\\tomo-etl\\\\data\\\\historical_data\\\\1210618_22_10_00to1210618_00_00_00_std.csv',\n",
       " 'C:\\\\workspace\\\\tomo\\\\tomo-etl\\\\data\\\\historical_data\\\\1210618_22_20_00to1210618_00_00_00_std.csv',\n",
       " 'C:\\\\workspace\\\\tomo\\\\tomo-etl\\\\data\\\\historical_data\\\\1210618_22_30_00to1210618_00_00_00_std.csv',\n",
       " 'C:\\\\workspace\\\\tomo\\\\tomo-etl\\\\data\\\\historical_data\\\\1210618_22_40_00to1210618_00_00_00_std.csv',\n",
       " 'C:\\\\workspace\\\\tomo\\\\tomo-etl\\\\data\\\\historical_data\\\\1210618_22_50_00to1210618_00_00_00_std.csv',\n",
       " 'C:\\\\workspace\\\\tomo\\\\tomo-etl\\\\data\\\\historical_data\\\\1210618_23_00_00to1210618_00_00_00_std.csv',\n",
       " 'C:\\\\workspace\\\\tomo\\\\tomo-etl\\\\data\\\\historical_data\\\\1210618_23_10_00to1210618_00_00_00_std.csv',\n",
       " 'C:\\\\workspace\\\\tomo\\\\tomo-etl\\\\data\\\\historical_data\\\\1210618_23_20_00to1210618_00_00_00_std.csv',\n",
       " 'C:\\\\workspace\\\\tomo\\\\tomo-etl\\\\data\\\\historical_data\\\\1210618_23_30_00to1210618_00_00_00_std.csv',\n",
       " 'C:\\\\workspace\\\\tomo\\\\tomo-etl\\\\data\\\\historical_data\\\\1210618_23_40_00to1210618_00_00_00_std.csv',\n",
       " 'C:\\\\workspace\\\\tomo\\\\tomo-etl\\\\data\\\\historical_data\\\\1210619_00_20_00to1210619_00_00_00_std.csv',\n",
       " 'C:\\\\workspace\\\\tomo\\\\tomo-etl\\\\data\\\\historical_data\\\\1210619_00_30_00to1210619_00_00_00_std.csv',\n",
       " 'C:\\\\workspace\\\\tomo\\\\tomo-etl\\\\data\\\\historical_data\\\\1210619_00_40_00to1210619_00_00_00_std.csv',\n",
       " 'C:\\\\workspace\\\\tomo\\\\tomo-etl\\\\data\\\\historical_data\\\\1210619_00_50_00to1210619_00_00_00_std.csv',\n",
       " 'C:\\\\workspace\\\\tomo\\\\tomo-etl\\\\data\\\\historical_data\\\\1210619_01_00_00to1210619_00_00_00_std.csv',\n",
       " 'C:\\\\workspace\\\\tomo\\\\tomo-etl\\\\data\\\\historical_data\\\\1210619_01_10_00to1210619_00_00_00_std.csv',\n",
       " 'C:\\\\workspace\\\\tomo\\\\tomo-etl\\\\data\\\\historical_data\\\\1210619_01_20_00to1210619_00_00_00_std.csv',\n",
       " 'C:\\\\workspace\\\\tomo\\\\tomo-etl\\\\data\\\\historical_data\\\\1210619_01_30_00to1210619_00_00_00_std.csv',\n",
       " 'C:\\\\workspace\\\\tomo\\\\tomo-etl\\\\data\\\\historical_data\\\\1210619_01_40_00to1210619_00_00_00_std.csv',\n",
       " 'C:\\\\workspace\\\\tomo\\\\tomo-etl\\\\data\\\\historical_data\\\\1210619_01_50_00to1210619_00_00_00_std.csv',\n",
       " 'C:\\\\workspace\\\\tomo\\\\tomo-etl\\\\data\\\\historical_data\\\\1210619_02_00_00to1210619_00_00_00_std.csv',\n",
       " 'C:\\\\workspace\\\\tomo\\\\tomo-etl\\\\data\\\\historical_data\\\\1210619_02_10_00to1210619_00_00_00_std.csv',\n",
       " 'C:\\\\workspace\\\\tomo\\\\tomo-etl\\\\data\\\\historical_data\\\\1210619_02_20_00to1210619_00_00_00_std.csv',\n",
       " 'C:\\\\workspace\\\\tomo\\\\tomo-etl\\\\data\\\\historical_data\\\\1210619_02_30_00to1210619_00_00_00_std.csv',\n",
       " 'C:\\\\workspace\\\\tomo\\\\tomo-etl\\\\data\\\\historical_data\\\\1210619_02_40_00to1210619_00_00_00_std.csv',\n",
       " 'C:\\\\workspace\\\\tomo\\\\tomo-etl\\\\data\\\\historical_data\\\\1210619_02_50_00to1210619_00_00_00_std.csv',\n",
       " 'C:\\\\workspace\\\\tomo\\\\tomo-etl\\\\data\\\\historical_data\\\\1210619_03_00_00to1210619_00_00_00_std.csv',\n",
       " 'C:\\\\workspace\\\\tomo\\\\tomo-etl\\\\data\\\\historical_data\\\\1210619_03_10_00to1210619_00_00_00_std.csv',\n",
       " 'C:\\\\workspace\\\\tomo\\\\tomo-etl\\\\data\\\\historical_data\\\\1210619_03_20_00to1210619_00_00_00_std.csv',\n",
       " 'C:\\\\workspace\\\\tomo\\\\tomo-etl\\\\data\\\\historical_data\\\\1210619_03_30_00to1210619_00_00_00_std.csv',\n",
       " 'C:\\\\workspace\\\\tomo\\\\tomo-etl\\\\data\\\\historical_data\\\\1210619_03_40_00to1210619_00_00_00_std.csv',\n",
       " 'C:\\\\workspace\\\\tomo\\\\tomo-etl\\\\data\\\\historical_data\\\\1210619_03_50_00to1210619_00_00_00_std.csv',\n",
       " 'C:\\\\workspace\\\\tomo\\\\tomo-etl\\\\data\\\\historical_data\\\\1210619_04_00_00to1210619_00_00_00_std.csv',\n",
       " 'C:\\\\workspace\\\\tomo\\\\tomo-etl\\\\data\\\\historical_data\\\\1210619_04_10_00to1210619_00_00_00_std.csv',\n",
       " 'C:\\\\workspace\\\\tomo\\\\tomo-etl\\\\data\\\\historical_data\\\\1210619_04_20_00to1210619_00_00_00_std.csv',\n",
       " 'C:\\\\workspace\\\\tomo\\\\tomo-etl\\\\data\\\\historical_data\\\\1210619_04_30_00to1210619_00_00_00_std.csv']"
      ]
     },
     "execution_count": 12,
     "metadata": {},
     "output_type": "execute_result"
    }
   ],
   "source": [
    "std_files = get_files('data/historical_data', regex_std)\n",
    "\n",
    "std_files"
   ]
  },
  {
   "cell_type": "code",
   "execution_count": 15,
   "id": "a9527d9c",
   "metadata": {},
   "outputs": [
    {
     "data": {
      "text/html": [
       "<div>\n",
       "<style scoped>\n",
       "    .dataframe tbody tr th:only-of-type {\n",
       "        vertical-align: middle;\n",
       "    }\n",
       "\n",
       "    .dataframe tbody tr th {\n",
       "        vertical-align: top;\n",
       "    }\n",
       "\n",
       "    .dataframe thead th {\n",
       "        text-align: right;\n",
       "    }\n",
       "</style>\n",
       "<table border=\"1\" class=\"dataframe\">\n",
       "  <thead>\n",
       "    <tr style=\"text-align: right;\">\n",
       "      <th></th>\n",
       "      <th>Date_l</th>\n",
       "      <th>Time_l</th>\n",
       "      <th>snr_l</th>\n",
       "    </tr>\n",
       "  </thead>\n",
       "  <tbody>\n",
       "    <tr>\n",
       "      <th>0</th>\n",
       "      <td>7.051157</td>\n",
       "      <td>34.88855</td>\n",
       "      <td>3.453090</td>\n",
       "    </tr>\n",
       "    <tr>\n",
       "      <th>1</th>\n",
       "      <td>7.051157</td>\n",
       "      <td>34.80505</td>\n",
       "      <td>3.294046</td>\n",
       "    </tr>\n",
       "    <tr>\n",
       "      <th>2</th>\n",
       "      <td>7.051157</td>\n",
       "      <td>34.67020</td>\n",
       "      <td>3.326672</td>\n",
       "    </tr>\n",
       "    <tr>\n",
       "      <th>3</th>\n",
       "      <td>7.051157</td>\n",
       "      <td>34.68335</td>\n",
       "      <td>3.274864</td>\n",
       "    </tr>\n",
       "    <tr>\n",
       "      <th>4</th>\n",
       "      <td>7.051157</td>\n",
       "      <td>34.76050</td>\n",
       "      <td>3.329226</td>\n",
       "    </tr>\n",
       "  </tbody>\n",
       "</table>\n",
       "</div>"
      ],
      "text/plain": [
       "     Date_l    Time_l     snr_l\n",
       "0  7.051157  34.88855  3.453090\n",
       "1  7.051157  34.80505  3.294046\n",
       "2  7.051157  34.67020  3.326672\n",
       "3  7.051157  34.68335  3.274864\n",
       "4  7.051157  34.76050  3.329226"
      ]
     },
     "execution_count": 15,
     "metadata": {},
     "output_type": "execute_result"
    }
   ],
   "source": [
    "std_df = pd.read_csv(std_files[0], sep=' ')\n",
    "std_df.head()"
   ]
  },
  {
   "cell_type": "markdown",
   "id": "f6cb1c46-b4bf-4449-aa5f-4a1f0406726d",
   "metadata": {},
   "source": [
    "Change date into "
   ]
  }
 ],
 "metadata": {
  "interpreter": {
   "hash": "d28c3cfa50f6bcb2bc350461f1eb37409f1dc6f49bba7b67bf03761ff1cd8671"
  },
  "kernelspec": {
   "display_name": "Python 3 (ipykernel)",
   "language": "python",
   "name": "python3"
  },
  "language_info": {
   "codemirror_mode": {
    "name": "ipython",
    "version": 3
   },
   "file_extension": ".py",
   "mimetype": "text/x-python",
   "name": "python",
   "nbconvert_exporter": "python",
   "pygments_lexer": "ipython3",
   "version": "3.9.6"
  }
 },
 "nbformat": 4,
 "nbformat_minor": 5
}
